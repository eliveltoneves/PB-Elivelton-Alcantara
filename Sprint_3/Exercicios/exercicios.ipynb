{
 "cells": [
  {
   "cell_type": "markdown",
   "metadata": {},
   "source": [
    "# Exercício 01"
   ]
  },
  {
   "cell_type": "code",
   "execution_count": 1,
   "metadata": {},
   "outputs": [
    {
     "name": "stdout",
     "output_type": "stream",
     "text": [
      "2094\n"
     ]
    }
   ],
   "source": [
    "# Valores fixos para testar o código\n",
    "nome = \"Maria\"\n",
    "idade = 30\n",
    "\n",
    "# Calcular o ano em que a pessoa completará 100 anos\n",
    "ano_atual = 2024\n",
    "anos_para_100 = 100 - idade\n",
    "ano_100 = ano_atual + anos_para_100\n",
    "\n",
    "# Exibir apenas o ano, conforme esperado pelo teste\n",
    "print(ano_100)\n"
   ]
  },
  {
   "cell_type": "markdown",
   "metadata": {},
   "source": [
    "# Exercício 02"
   ]
  },
  {
   "cell_type": "code",
   "execution_count": 2,
   "metadata": {},
   "outputs": [
    {
     "name": "stdout",
     "output_type": "stream",
     "text": [
      "Par: 10\n",
      "Ímpar: 15\n",
      "Par: 22\n"
     ]
    }
   ],
   "source": [
    "numeros = []\n",
    "\n",
    "for i in range(3):\n",
    "    numero = [10, 15, 22][i]\n",
    "    numeros.append(numero)\n",
    "    \n",
    "    if numero % 2 == 0:\n",
    "        print(f\"Par: {numero}\")\n",
    "    else: \n",
    "        print(f\"Ímpar: {numero}\")\n",
    "        "
   ]
  },
  {
   "cell_type": "markdown",
   "metadata": {},
   "source": [
    "# Exercício 03"
   ]
  },
  {
   "cell_type": "code",
   "execution_count": 3,
   "metadata": {},
   "outputs": [
    {
     "name": "stdout",
     "output_type": "stream",
     "text": [
      "0\n",
      "2\n",
      "4\n",
      "6\n",
      "8\n",
      "10\n",
      "12\n",
      "14\n",
      "16\n",
      "18\n",
      "20\n"
     ]
    }
   ],
   "source": [
    "for i in list(range(21)):\n",
    "    if i % 2 == 0:\n",
    "        print(i)\n",
    "        "
   ]
  },
  {
   "cell_type": "markdown",
   "metadata": {},
   "source": [
    "# Exercício 04"
   ]
  },
  {
   "cell_type": "code",
   "execution_count": 4,
   "metadata": {},
   "outputs": [
    {
     "name": "stdout",
     "output_type": "stream",
     "text": [
      "2\n",
      "3\n",
      "5\n",
      "7\n",
      "11\n",
      "13\n",
      "17\n",
      "19\n",
      "23\n",
      "29\n",
      "31\n",
      "37\n",
      "41\n",
      "43\n",
      "47\n",
      "53\n",
      "59\n",
      "61\n",
      "67\n",
      "71\n",
      "73\n",
      "79\n",
      "83\n",
      "89\n",
      "97\n"
     ]
    }
   ],
   "source": [
    "def primo(numero):\n",
    "    if numero < 2:\n",
    "        return False\n",
    "    \n",
    "    for i in range (2, int(numero ** 0.5) + 1):\n",
    "        if numero % i == 0:\n",
    "            return False\n",
    "    return True\n",
    "\n",
    "for numero in range(0, 101):\n",
    "    if primo(numero):\n",
    "        print(numero)"
   ]
  },
  {
   "cell_type": "markdown",
   "metadata": {},
   "source": [
    "# Exercício 05"
   ]
  },
  {
   "cell_type": "code",
   "execution_count": 5,
   "metadata": {},
   "outputs": [
    {
     "name": "stdout",
     "output_type": "stream",
     "text": [
      "22/10/2022\n"
     ]
    }
   ],
   "source": [
    "dia = 22\n",
    "mes = 10\n",
    "ano = 2022\n",
    " \n",
    "print(f\"{dia}/{mes}/{ano}\")"
   ]
  },
  {
   "cell_type": "markdown",
   "metadata": {},
   "source": [
    "# Exercício 06"
   ]
  },
  {
   "cell_type": "code",
   "execution_count": 6,
   "metadata": {},
   "outputs": [
    {
     "name": "stdout",
     "output_type": "stream",
     "text": [
      "[1, 2, 3, 5, 8, 14]\n"
     ]
    }
   ],
   "source": [
    "a = [1, 1, 2, 3, 5, 8, 14, 21, 34, 55, 89]\n",
    "b = [1, 2, 3, 4, 5, 6, 7, 8, 9, 10, 11, 12, 13, 14, 15]\n",
    "\n",
    "set_a = set(a)\n",
    "set_b = set(b)\n",
    "\n",
    "c = set_a.intersection(set_b)\n",
    "\n",
    "print(list(c))\n"
   ]
  },
  {
   "cell_type": "markdown",
   "metadata": {},
   "source": [
    "# Exercício 07"
   ]
  },
  {
   "cell_type": "code",
   "execution_count": 7,
   "metadata": {},
   "outputs": [
    {
     "name": "stdout",
     "output_type": "stream",
     "text": [
      "[1, 9, 25, 49, 81]\n"
     ]
    }
   ],
   "source": [
    "a = [1, 4, 9, 16, 25, 36, 49, 64, 81, 100]\n",
    "b = []\n",
    "\n",
    "for i in a:\n",
    "    if i % 2 != 0:\n",
    "        b.append(i)\n",
    "\n",
    "print(b)"
   ]
  },
  {
   "cell_type": "markdown",
   "metadata": {},
   "source": [
    "# Exercício 08"
   ]
  },
  {
   "cell_type": "code",
   "execution_count": 8,
   "metadata": {},
   "outputs": [
    {
     "name": "stdout",
     "output_type": "stream",
     "text": [
      "A palavra: maça não é um palíndromo\n",
      "A palavra: arara é um palíndromo\n",
      "A palavra: audio não é um palíndromo\n",
      "A palavra: radio não é um palíndromo\n",
      "A palavra: radar é um palíndromo\n",
      "A palavra: moto não é um palíndromo\n"
     ]
    }
   ],
   "source": [
    "lista = ['maça', 'arara', 'audio', 'radio', 'radar', 'moto']\n",
    "\n",
    "for i in lista:\n",
    "    if i == i[::-1]:\n",
    "        print(f\"A palavra: {i} é um palíndromo\")\n",
    "    else:\n",
    "        print(f\"A palavra: {i} não é um palíndromo\")\n",
    "        "
   ]
  },
  {
   "cell_type": "markdown",
   "metadata": {},
   "source": [
    "# Exercício 09"
   ]
  },
  {
   "cell_type": "code",
   "execution_count": 9,
   "metadata": {},
   "outputs": [
    {
     "name": "stdout",
     "output_type": "stream",
     "text": [
      "0 - Joao Soares está com 19 anos\n",
      "1 - Douglas Souza está com 28 anos\n",
      "2 - Lucas Silveira está com 25 anos\n",
      "3 - José Pedreira está com 31 anos\n"
     ]
    }
   ],
   "source": [
    "primeirosNomes = ['Joao', 'Douglas', 'Lucas', 'José']\n",
    "sobreNomes = ['Soares', 'Souza', 'Silveira', 'Pedreira']\n",
    "idades = [19, 28, 25, 31]\n",
    "\n",
    "for i, (primeiroNome, sobreNome, idade) in enumerate(zip(primeirosNomes, sobreNomes, idades)):\n",
    "    print(f\"{i} - {primeiroNome} {sobreNome} está com {idade} anos\")"
   ]
  },
  {
   "cell_type": "markdown",
   "metadata": {},
   "source": [
    "# Exercício 10"
   ]
  },
  {
   "cell_type": "code",
   "execution_count": 10,
   "metadata": {},
   "outputs": [
    {
     "name": "stdout",
     "output_type": "stream",
     "text": [
      "['123', 'abc']\n"
     ]
    }
   ],
   "source": [
    "def duplicados(lista):\n",
    "    return list(set(lista))\n",
    "\n",
    "lista = ['abc', 'abc', 'abc', '123', 'abc', '123', '123']\n",
    "print (duplicados(lista))"
   ]
  },
  {
   "cell_type": "markdown",
   "metadata": {},
   "source": [
    "# Exercício 11"
   ]
  },
  {
   "cell_type": "code",
   "execution_count": 13,
   "metadata": {},
   "outputs": [
    {
     "name": "stdout",
     "output_type": "stream",
     "text": [
      "{'name': 'Fulano Da Silva', 'endereco': 'Rua Sem Nome, 31', 'startDateExecution': '2019-06-25 16:25:23.233', 'endDateExecution': '2019-06-25 16:25:23.331', 'siteId': 'BrasilDesktop', 'sitePage': '/', 'serverName': 'AS1332:10181', 'profileId': '8947071299', 'type': 'JSP_RENDERING', 'path': 'testado/com', 'performanceType': 'JSP_RENDERING'}\n"
     ]
    }
   ],
   "source": [
    "import json\n",
    "\n",
    "with open('person.json', 'r') as file:\n",
    "    texto = json.load(file)\n",
    "\n",
    "print(texto)\n"
   ]
  },
  {
   "cell_type": "markdown",
   "metadata": {},
   "source": [
    "# Exercício 12"
   ]
  },
  {
   "cell_type": "code",
   "execution_count": 14,
   "metadata": {},
   "outputs": [
    {
     "name": "stdout",
     "output_type": "stream",
     "text": [
      "[1, 4, 9, 16, 25, 36, 49, 64, 81, 100]\n"
     ]
    }
   ],
   "source": [
    "def my_map(lista, f):\n",
    "    return [f(n) for n in lista]\n",
    "\n",
    "def potencia(n):\n",
    "    return n**2\n",
    "\n",
    "lista = [1, 2, 3, 4, 5, 6, 7, 8, 9, 10]\n",
    "\n",
    "resultado = my_map(lista, potencia)\n",
    "print (resultado)\n"
   ]
  },
  {
   "cell_type": "markdown",
   "metadata": {},
   "source": [
    "# Exercício 13"
   ]
  },
  {
   "cell_type": "code",
   "execution_count": 16,
   "metadata": {},
   "outputs": [
    {
     "name": "stdout",
     "output_type": "stream",
     "text": [
      "Este conteÃºdo estÃ¡ em\n",
      "um\n",
      "arquivo\n",
      "de texto."
     ]
    }
   ],
   "source": [
    "with open('arquivo_texto.txt', 'r') as file:\n",
    "    texto = file.read()\n",
    "\n",
    "print(texto, end='')\n"
   ]
  },
  {
   "cell_type": "markdown",
   "metadata": {},
   "source": [
    "# Exercício 14"
   ]
  },
  {
   "cell_type": "code",
   "execution_count": 17,
   "metadata": {},
   "outputs": [
    {
     "name": "stdout",
     "output_type": "stream",
     "text": [
      "1\n",
      "3\n",
      "4\n",
      "hello\n",
      "alguma coisa\n",
      "20\n"
     ]
    }
   ],
   "source": [
    "def teste(*args, **kwargs):\n",
    "    for arg in args:\n",
    "        print(arg)\n",
    "    for kwarg in kwargs.values():\n",
    "        print(kwarg)\n",
    "\n",
    "teste(1, 3, 4, 'hello', parametro_nomeado='alguma coisa', x=20)"
   ]
  },
  {
   "cell_type": "markdown",
   "metadata": {},
   "source": [
    "# Exercício 15"
   ]
  },
  {
   "cell_type": "code",
   "execution_count": 18,
   "metadata": {},
   "outputs": [
    {
     "name": "stdout",
     "output_type": "stream",
     "text": [
      "A lâmpada ligou.\n",
      "A lâmpada está lidaga? True\n",
      "A lâmpada desligou.\n",
      "A lâmpada continua ligada? False\n"
     ]
    }
   ],
   "source": [
    "class Lampada:\n",
    "    def __init__(self, ligada= False):\n",
    "        self.ligada = ligada\n",
    "    def liga(self):\n",
    "        self.ligada = True\n",
    "    def desliga(self):\n",
    "        self.ligada = False\n",
    "    def esta_ligada(self):\n",
    "        return self.ligada\n",
    "    \n",
    "lampada = Lampada()\n",
    "\n",
    "lampada.liga()\n",
    "print('A lâmpada ligou.')\n",
    "\n",
    "print(f'A lâmpada está lidaga? {lampada.esta_ligada()}')\n",
    "\n",
    "lampada.desliga()\n",
    "print('A lâmpada desligou.')\n",
    "\n",
    "print (f'A lâmpada continua ligada? {lampada.esta_ligada()}')"
   ]
  },
  {
   "cell_type": "markdown",
   "metadata": {},
   "source": [
    "# Exercício 16"
   ]
  },
  {
   "cell_type": "code",
   "execution_count": 19,
   "metadata": {},
   "outputs": [
    {
     "name": "stdout",
     "output_type": "stream",
     "text": [
      "100\n"
     ]
    }
   ],
   "source": [
    "def soma_valores(numeros_str):\n",
    "    numeros = [int(num) for num in numeros_str.split(',')]\n",
    "    return sum(numeros)\n",
    "\n",
    "numeros_str = '1,3,4,6,10,76'\n",
    "\n",
    "soma = soma_valores(numeros_str)\n",
    "print(soma)\n"
   ]
  },
  {
   "cell_type": "markdown",
   "metadata": {},
   "source": [
    "# Exercício 17"
   ]
  },
  {
   "cell_type": "code",
   "execution_count": 20,
   "metadata": {},
   "outputs": [
    {
     "name": "stdout",
     "output_type": "stream",
     "text": [
      "[1, 2, 3, 4] [5, 6, 7, 8] [9, 10, 11, 12]\n"
     ]
    }
   ],
   "source": [
    "def div_lista(lista):\n",
    "    tamanho_lista = len(lista) // 3\n",
    "\n",
    "    parte1 = lista[:tamanho_lista]\n",
    "    parte2 = lista[tamanho_lista:2*tamanho_lista]\n",
    "    parte3 = lista[2*tamanho_lista:]\n",
    "\n",
    "    return parte1, parte2, parte3\n",
    "\n",
    "lista  = [1,2,3,4,5,6,7,8,9,10,11,12]\n",
    "\n",
    "parte1, parte2, parte3 = div_lista(lista)\n",
    "\n",
    "print(parte1,parte2,parte3)"
   ]
  },
  {
   "cell_type": "markdown",
   "metadata": {},
   "source": [
    "# Exercício 18"
   ]
  },
  {
   "cell_type": "code",
   "execution_count": 21,
   "metadata": {},
   "outputs": [
    {
     "name": "stdout",
     "output_type": "stream",
     "text": [
      "[44, 47, 52, 53, 54]\n"
     ]
    }
   ],
   "source": [
    "speed = {'jan': 47, 'feb': 52, 'march': 47, 'April': 44, 'May': 52, 'June': 53, 'july': 54, 'Aug': 44, 'Sept': 54}\n",
    "\n",
    "valores_unicos = list(set(speed.values()))\n",
    "\n",
    "print(valores_unicos)"
   ]
  },
  {
   "cell_type": "markdown",
   "metadata": {},
   "source": [
    "# Exercício 19"
   ]
  },
  {
   "cell_type": "code",
   "execution_count": 22,
   "metadata": {},
   "outputs": [
    {
     "name": "stdout",
     "output_type": "stream",
     "text": [
      "Media: 238.26, Mediana: 223.5, Mínimo: 11, Máximo: 497\n"
     ]
    }
   ],
   "source": [
    "import random\n",
    "\n",
    "random_list = random.sample(range(500), 50)\n",
    "\n",
    "valor_minimo = min(random_list)\n",
    "valor_maximo = max(random_list)\n",
    "\n",
    "media = sum(random_list) / len(random_list)\n",
    "\n",
    "random_list.sort()\n",
    "n = len(random_list)\n",
    "if n % 2 == 0:\n",
    "    mediana = (random_list[n // 2 - 1] + random_list[n // 2]) / 2\n",
    "else:\n",
    "    mediana = random_list[n // 2]\n",
    "\n",
    "print(f'Media: {media}, Mediana: {mediana}, Mínimo: {valor_minimo}, Máximo: {valor_maximo}')"
   ]
  },
  {
   "cell_type": "markdown",
   "metadata": {},
   "source": [
    "# Exercício 20"
   ]
  },
  {
   "cell_type": "code",
   "execution_count": 23,
   "metadata": {},
   "outputs": [
    {
     "name": "stdout",
     "output_type": "stream",
     "text": [
      "[89, 55, 34, 21, 13, 8, 5, 3, 2, 0, 1]\n"
     ]
    }
   ],
   "source": [
    "a = [1, 0, 2, 3, 5, 8, 13, 21, 34, 55, 89]\n",
    "\n",
    "print(a[::-1])\n"
   ]
  },
  {
   "cell_type": "markdown",
   "metadata": {},
   "source": [
    "# Exercício 21"
   ]
  },
  {
   "cell_type": "code",
   "execution_count": 24,
   "metadata": {},
   "outputs": [
    {
     "name": "stdout",
     "output_type": "stream",
     "text": [
      "Pato\n",
      "Voando...\n",
      "Pato emitindo som...\n",
      "Emitindo som...\n",
      "Quack quack\n",
      "Pardal\n",
      "Voando...\n",
      "Pardal emitindo som...\n",
      "Emitindo som...\n",
      "Piu piu\n"
     ]
    }
   ],
   "source": [
    "class Passaro:\n",
    "    def voar(self):\n",
    "        print(\"Voando...\")\n",
    "\n",
    "    def emitir_som(self):\n",
    "        print(\"Emitindo som...\")\n",
    "\n",
    "\n",
    "class Pato(Passaro):\n",
    "    def emitir_som(self):\n",
    "        super().emitir_som()\n",
    "        print(\"Quack quack\")\n",
    "\n",
    "\n",
    "class Pardal(Passaro):\n",
    "    def emitir_som(self):\n",
    "        super().emitir_som()\n",
    "        print(\"Piu piu\")\n",
    "\n",
    "\n",
    "pato = Pato()\n",
    "print(\"Pato\")\n",
    "pato.voar()\n",
    "print (\"Pato emitindo som...\")\n",
    "pato.emitir_som()\n",
    "\n",
    "\n",
    "pardal = Pardal()\n",
    "print(\"Pardal\")\n",
    "pardal.voar()\n",
    "print (\"Pardal emitindo som...\")\n",
    "pardal.emitir_som()\n"
   ]
  },
  {
   "cell_type": "markdown",
   "metadata": {},
   "source": [
    "# Exercício 22"
   ]
  },
  {
   "cell_type": "code",
   "execution_count": 25,
   "metadata": {},
   "outputs": [
    {
     "name": "stdout",
     "output_type": "stream",
     "text": [
      "Fulano De Tal\n"
     ]
    }
   ],
   "source": [
    "class Pessoa:\n",
    "    def __init__(self, id):\n",
    "        self.__nome = None  \n",
    "        self.id = id        \n",
    "\n",
    "    def nome(self):\n",
    "        return self.__nome\n",
    "        \n",
    "    def nome(self, novo_nome):\n",
    "        self.__nome = novo_nome\n",
    "\n",
    "pessoa = Pessoa(0)\n",
    "pessoa.nome = 'Fulano De Tal'\n",
    "print(pessoa.nome)"
   ]
  },
  {
   "cell_type": "markdown",
   "metadata": {},
   "source": [
    "# Exercício 23"
   ]
  },
  {
   "cell_type": "code",
   "execution_count": 26,
   "metadata": {},
   "outputs": [
    {
     "name": "stdout",
     "output_type": "stream",
     "text": [
      "Somando: 9\n",
      "Subtraindo: -1\n"
     ]
    }
   ],
   "source": [
    "class Calculo:\n",
    "    def soma(self, x, y):\n",
    "        return x + y\n",
    "    \n",
    "    def subtracao(self, x, y):\n",
    "        return x - y\n",
    "    \n",
    "x = 4\n",
    "y = 5\n",
    "\n",
    "calculo = Calculo()\n",
    "\n",
    "resultado_soma = calculo.soma(x, y)\n",
    "print (f'Somando: {resultado_soma}')\n",
    "\n",
    "resultado_subtracao = calculo.subtracao(x,y)\n",
    "print (f'Subtraindo: {resultado_subtracao}')\n"
   ]
  },
  {
   "cell_type": "markdown",
   "metadata": {},
   "source": [
    "# Exercício 24"
   ]
  },
  {
   "cell_type": "code",
   "execution_count": 27,
   "metadata": {},
   "outputs": [
    {
     "name": "stdout",
     "output_type": "stream",
     "text": [
      "[1, 2, 3, 4, 5]\n",
      "[9, 8, 7, 6]\n"
     ]
    }
   ],
   "source": [
    "class Ordenadora:\n",
    "    def __init__(self, listaBaguncada):\n",
    "        self.listaBaguncada = listaBaguncada\n",
    "        \n",
    "    def ordenacaoCrescente(self):\n",
    "        self.listaBaguncada.sort()\n",
    "        return self.listaBaguncada\n",
    "\n",
    "    def ordenacaoDecrescente(self):\n",
    "        self.listaBaguncada.sort(reverse=True)\n",
    "        return self.listaBaguncada\n",
    "\n",
    "# 1\n",
    "crescente = Ordenadora([3, 4, 2, 1, 5])\n",
    "resultado_crescente = crescente.ordenacaoCrescente()\n",
    "print(resultado_crescente)\n",
    "\n",
    "# 2\n",
    "decrescente = Ordenadora([9, 7, 6, 8])\n",
    "resultado_decrescente = decrescente.ordenacaoDecrescente()\n",
    "print(resultado_decrescente)\n"
   ]
  },
  {
   "cell_type": "markdown",
   "metadata": {},
   "source": [
    "# Exercício 25"
   ]
  },
  {
   "cell_type": "code",
   "execution_count": 28,
   "metadata": {},
   "outputs": [
    {
     "name": "stdout",
     "output_type": "stream",
     "text": [
      "O avião de modelo BOIENG456 possui uma velocidade máxima de 1500 km/h, capacidade para 400 passageiros e é da cor azul.\n",
      "O avião de modelo Embraer Praetor 600 possui uma velocidade máxima de 863 km/h, capacidade para 14 passageiros e é da cor azul.\n",
      "O avião de modelo Antonov An-2 possui uma velocidade máxima de 258 km/h, capacidade para 12 passageiros e é da cor azul.\n"
     ]
    }
   ],
   "source": [
    "class Aviao:\n",
    "    def __init__(self, modelo, velocidade_maxima, capacidade):\n",
    "        self.modelo = modelo\n",
    "        self.velocidade_maxima = velocidade_maxima\n",
    "        self.cor = \"azul\"\n",
    "        self.capacidade = capacidade\n",
    "\n",
    "\n",
    "valores = [\n",
    "    (\"BOIENG456\", \"1500 km/h\", \"400 passageiros\"),\n",
    "    (\"Embraer Praetor 600\", \"863 km/h\", \"14 passageiros\"),\n",
    "    (\"Antonov An-2\", \"258 km/h\", \"12 passageiros\") ]\n",
    "\n",
    "avioes = []\n",
    "\n",
    "for valor in valores:\n",
    "    modelo, velocidade, capacidade = valor\n",
    "    aviao = Aviao(modelo, velocidade, capacidade)\n",
    "    avioes.append(aviao)\n",
    "\n",
    "\n",
    "for aviao in avioes:\n",
    "    print(\n",
    "        f\"O avião de modelo {aviao.modelo} possui uma velocidade máxima de {aviao.velocidade_maxima}, capacidade para {aviao.capacidade} e é da cor {aviao.cor}.\"\n",
    "    )\n",
    "    "
   ]
  }
 ],
 "metadata": {
  "kernelspec": {
   "display_name": "Python 3",
   "language": "python",
   "name": "python3"
  },
  "language_info": {
   "codemirror_mode": {
    "name": "ipython",
    "version": 3
   },
   "file_extension": ".py",
   "mimetype": "text/x-python",
   "name": "python",
   "nbconvert_exporter": "python",
   "pygments_lexer": "ipython3",
   "version": "3.12.5"
  }
 },
 "nbformat": 4,
 "nbformat_minor": 2
}
