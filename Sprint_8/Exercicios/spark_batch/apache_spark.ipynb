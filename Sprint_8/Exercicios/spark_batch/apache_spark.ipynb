{
  "cells": [
    {
      "cell_type": "markdown",
      "metadata": {
        "id": "UZEwTrZGTm-m"
      },
      "source": [
        "# **Etapa 1:**\n",
        "Configurar o ambiente e carregar o arquivo"
      ]
    },
    {
      "cell_type": "code",
      "execution_count": 3,
      "metadata": {
        "colab": {
          "base_uri": "https://localhost:8080/"
        },
        "id": "U_bxXvrXS81-",
        "outputId": "c9a5aa72-724c-466b-a80c-194c38cbb718"
      },
      "outputs": [
        {
          "name": "stdout",
          "output_type": "stream",
          "text": [
            "+----------------+\n",
            "|             _c0|\n",
            "+----------------+\n",
            "|  Frances Bennet|\n",
            "|   Jamie Russell|\n",
            "|  Edward Kistler|\n",
            "|   Sheila Maurer|\n",
            "|Donald Golightly|\n",
            "+----------------+\n",
            "only showing top 5 rows\n",
            "\n"
          ]
        }
      ],
      "source": [
        "from pyspark.sql import SparkSession\n",
        "from pyspark.sql import functions as F\n",
        "import random\n",
        "\n",
        "# Criar Spark Session\n",
        "spark = SparkSession.builder \\\n",
        "    .master(\"local[*]\") \\\n",
        "    .appName(\"Exercicio Intro\") \\\n",
        "    .getOrCreate()\n",
        "\n",
        "# Ler o arquivo CSV\n",
        "df_nomes = spark.read.csv('Sprint_8\\Exercicios\\spark_batch/nomes_aleatorios.txt', header=False, inferSchema=True)\n",
        "\n",
        "# Mostrar algumas linhas\n",
        "df_nomes.show(5)\n"
      ]
    },
    {
      "cell_type": "markdown",
      "metadata": {
        "id": "2FnUaUDlUjmk"
      },
      "source": [
        "# **Etapa 2:**\n",
        "Ajustar o schema e renomear coluna"
      ]
    },
    {
      "cell_type": "code",
      "execution_count": 4,
      "metadata": {
        "colab": {
          "base_uri": "https://localhost:8080/"
        },
        "id": "5TXSsjXQUi7V",
        "outputId": "7a9dadfd-6123-4bcb-a34d-471fc58b45f2"
      },
      "outputs": [
        {
          "name": "stdout",
          "output_type": "stream",
          "text": [
            "root\n",
            " |-- Nomes: string (nullable = true)\n",
            "\n",
            "+-----------------+\n",
            "|            Nomes|\n",
            "+-----------------+\n",
            "|   Frances Bennet|\n",
            "|    Jamie Russell|\n",
            "|   Edward Kistler|\n",
            "|    Sheila Maurer|\n",
            "| Donald Golightly|\n",
            "|       David Gray|\n",
            "|      Joy Bennett|\n",
            "|      Paul Kriese|\n",
            "|Berniece Ornellas|\n",
            "|    Brian Farrell|\n",
            "+-----------------+\n",
            "only showing top 10 rows\n",
            "\n"
          ]
        }
      ],
      "source": [
        "# Renomear a coluna\n",
        "df_nomes = df_nomes.withColumnRenamed(\"_c0\", \"Nomes\")\n",
        "\n",
        "# Imprimir o esquema\n",
        "df_nomes.printSchema()\n",
        "\n",
        "# Mostrar 10 linhas\n",
        "df_nomes.show(10)\n"
      ]
    },
    {
      "cell_type": "markdown",
      "metadata": {
        "id": "_pPjlj1ZVCK0"
      },
      "source": [
        "# **Etapa 3:**\n",
        "Adicionar coluna Escolaridade"
      ]
    },
    {
      "cell_type": "code",
      "execution_count": 5,
      "metadata": {
        "colab": {
          "base_uri": "https://localhost:8080/"
        },
        "id": "eWRvut6-VNPD",
        "outputId": "cb6dea19-1ecc-4b21-d17c-00ded442a477"
      },
      "outputs": [
        {
          "name": "stdout",
          "output_type": "stream",
          "text": [
            "+-----------------+------------+\n",
            "|            Nomes|Escolaridade|\n",
            "+-----------------+------------+\n",
            "|   Frances Bennet|       Medio|\n",
            "|    Jamie Russell| Fundamental|\n",
            "|   Edward Kistler|    Superior|\n",
            "|    Sheila Maurer| Fundamental|\n",
            "| Donald Golightly|    Superior|\n",
            "|       David Gray|       Medio|\n",
            "|      Joy Bennett|       Medio|\n",
            "|      Paul Kriese|    Superior|\n",
            "|Berniece Ornellas|    Superior|\n",
            "|    Brian Farrell|       Medio|\n",
            "+-----------------+------------+\n",
            "only showing top 10 rows\n",
            "\n"
          ]
        }
      ],
      "source": [
        "# Adicionar coluna Escolaridade\n",
        "df_nomes = df_nomes.withColumn(\n",
        "    \"Escolaridade\",\n",
        "    F.expr(\"CASE WHEN rand() < 0.33 THEN 'Fundamental' WHEN rand() < 0.66 THEN 'Medio' ELSE 'Superior' END\")\n",
        ")\n",
        "\n",
        "df_nomes.show(10)\n"
      ]
    },
    {
      "cell_type": "markdown",
      "metadata": {
        "id": "zzyshJJiV7sz"
      },
      "source": [
        "# **Etapa 4:**\n",
        "Adicionar coluna País"
      ]
    },
    {
      "cell_type": "code",
      "execution_count": 10,
      "metadata": {
        "colab": {
          "base_uri": "https://localhost:8080/"
        },
        "id": "7jfs_zGUWDTi",
        "outputId": "fb17a411-95b9-4f4c-b21f-242fd9a1d63b"
      },
      "outputs": [
        {
          "name": "stdout",
          "output_type": "stream",
          "text": [
            "root\n",
            " |-- Nomes: string (nullable = true)\n",
            " |-- Escolaridade: string (nullable = false)\n",
            " |-- Pais: string (nullable = false)\n",
            "\n",
            "+-----------------+------------+---------+\n",
            "|            Nomes|Escolaridade|     Pais|\n",
            "+-----------------+------------+---------+\n",
            "|   Frances Bennet|       Medio| Colômbia|\n",
            "|    Jamie Russell| Fundamental|   Guiana|\n",
            "|   Edward Kistler|    Superior|   Guiana|\n",
            "|    Sheila Maurer| Fundamental|  Equador|\n",
            "| Donald Golightly|    Superior|    Chile|\n",
            "|       David Gray|       Medio| Colômbia|\n",
            "|      Joy Bennett|       Medio|   Brasil|\n",
            "|      Paul Kriese|    Superior|  Equador|\n",
            "|Berniece Ornellas|    Superior| Colômbia|\n",
            "|    Brian Farrell|       Medio|Argentina|\n",
            "+-----------------+------------+---------+\n",
            "only showing top 10 rows\n",
            "\n"
          ]
        }
      ],
      "source": [
        "paises = [\"Argentina\", \"Bolívia\", \"Brasil\", \"Chile\", \"Colômbia\", \"Equador\", \"Guiana\", \"Paraguai\", \"Peru\", \"Suriname\", \"Uruguai\", \"Venezuela\", \"Guiana Francesa\"]\n",
        "\n",
        "# rand paises start\n",
        "df_nomes = df_nomes.withColumn(\n",
        "    \"Pais\",\n",
        "    F.when(F.rand()< 1 / 13, paises[0])\n",
        "    .when(F.rand()< 2 / 13, paises[1])\n",
        "    .when(F.rand()< 3 / 13, paises[2])\n",
        "    .when(F.rand()< 4 / 13, paises[3])\n",
        "    .when(F.rand()< 5 / 13, paises[4])\n",
        "    .when(F.rand()< 6 / 13, paises[5])\n",
        "    .when(F.rand()< 7 / 13, paises[6])\n",
        "    .when(F.rand()< 8 / 13, paises[7])\n",
        "    .when(F.rand()< 9 / 13, paises[8])\n",
        "    .when(F.rand()< 10 / 13, paises[9])\n",
        "    .when(F.rand()< 11 / 13, paises[10])\n",
        "    .when(F.rand()< 12 / 13, paises[11])\n",
        "    .otherwise(paises[12])\n",
        "    )\n",
        "\n",
        "df_nomes.printSchema()\n",
        "df_nomes.show(10)\n"
      ]
    },
    {
      "cell_type": "markdown",
      "metadata": {
        "id": "GcrEMHNwXySR"
      },
      "source": [
        "# **Etapa 5:**\n",
        "Adicionar coluna AnoNascimento"
      ]
    },
    {
      "cell_type": "code",
      "execution_count": 11,
      "metadata": {
        "colab": {
          "base_uri": "https://localhost:8080/"
        },
        "id": "QrlBrgqtX5zB",
        "outputId": "d0df989f-ae67-4732-beaf-69a7abb4015e"
      },
      "outputs": [
        {
          "name": "stdout",
          "output_type": "stream",
          "text": [
            "+-----------------+------------+---------+-------------+\n",
            "|            Nomes|Escolaridade|     Pais|AnoNascimento|\n",
            "+-----------------+------------+---------+-------------+\n",
            "|   Frances Bennet|       Medio| Colômbia|         2003|\n",
            "|    Jamie Russell| Fundamental|   Guiana|         2006|\n",
            "|   Edward Kistler|    Superior|   Guiana|         2003|\n",
            "|    Sheila Maurer| Fundamental|  Equador|         1954|\n",
            "| Donald Golightly|    Superior|    Chile|         1989|\n",
            "|       David Gray|       Medio| Colômbia|         1953|\n",
            "|      Joy Bennett|       Medio|   Brasil|         2005|\n",
            "|      Paul Kriese|    Superior|  Equador|         1994|\n",
            "|Berniece Ornellas|    Superior| Colômbia|         1998|\n",
            "|    Brian Farrell|       Medio|Argentina|         1991|\n",
            "+-----------------+------------+---------+-------------+\n",
            "only showing top 10 rows\n",
            "\n"
          ]
        }
      ],
      "source": [
        "# Adicionar coluna AnoNascimento\n",
        "df_nomes = df_nomes.withColumn(\n",
        "    \"AnoNascimento\",\n",
        "    (F.rand() * (2010 - 1945) + 1945).cast(\"int\")\n",
        ")\n",
        "\n",
        "df_nomes.show(10)\n"
      ]
    },
    {
      "cell_type": "markdown",
      "metadata": {
        "id": "kIApXIsyYC-J"
      },
      "source": [
        "# **Etapa 6:**\n",
        "Filtrar pessoas nascidas neste século"
      ]
    },
    {
      "cell_type": "code",
      "execution_count": 12,
      "metadata": {
        "colab": {
          "base_uri": "https://localhost:8080/"
        },
        "id": "OZ0t-KtEYK_J",
        "outputId": "d46e6955-8e36-498e-de27-bee8b4aaf5ce"
      },
      "outputs": [
        {
          "name": "stdout",
          "output_type": "stream",
          "text": [
            "+--------------+------------+---------+-------------+\n",
            "|         Nomes|Escolaridade|     Pais|AnoNascimento|\n",
            "+--------------+------------+---------+-------------+\n",
            "|Frances Bennet|       Medio| Colômbia|         2003|\n",
            "| Jamie Russell| Fundamental|   Guiana|         2006|\n",
            "|Edward Kistler|    Superior|   Guiana|         2003|\n",
            "|   Joy Bennett|       Medio|   Brasil|         2005|\n",
            "|Mary Dillahunt|    Superior|    Chile|         2008|\n",
            "|   Sandra Todd| Fundamental|Argentina|         2006|\n",
            "|Rosie Lovelady| Fundamental| Colômbia|         2001|\n",
            "|   Donald Vogt|    Superior| Colômbia|         2000|\n",
            "|   Lisa Baxley| Fundamental|  Equador|         2001|\n",
            "| George Miller| Fundamental|  Equador|         2005|\n",
            "+--------------+------------+---------+-------------+\n",
            "only showing top 10 rows\n",
            "\n"
          ]
        }
      ],
      "source": [
        "df_select = df_nomes.filter(df_nomes[\"AnoNascimento\"] >= 2000)\n",
        "df_select.show(10)"
      ]
    },
    {
      "cell_type": "markdown",
      "metadata": {
        "id": "Jd82miHxYiUB"
      },
      "source": [
        "# **Etapa 7:**\n",
        "Repetir o filtro usando Spark SQL"
      ]
    },
    {
      "cell_type": "code",
      "execution_count": 13,
      "metadata": {
        "colab": {
          "base_uri": "https://localhost:8080/"
        },
        "id": "5NSpa3JaYo0I",
        "outputId": "5f8c12bc-10e5-42ed-a35a-f0c61cab152f"
      },
      "outputs": [
        {
          "name": "stdout",
          "output_type": "stream",
          "text": [
            "+--------------+------------+---------+-------------+\n",
            "|         Nomes|Escolaridade|     Pais|AnoNascimento|\n",
            "+--------------+------------+---------+-------------+\n",
            "|Frances Bennet|       Medio| Colômbia|         2003|\n",
            "| Jamie Russell| Fundamental|   Guiana|         2006|\n",
            "|Edward Kistler|    Superior|   Guiana|         2003|\n",
            "|   Joy Bennett|       Medio|   Brasil|         2005|\n",
            "|Mary Dillahunt|    Superior|    Chile|         2008|\n",
            "|   Sandra Todd| Fundamental|Argentina|         2006|\n",
            "|Rosie Lovelady| Fundamental| Colômbia|         2001|\n",
            "|   Donald Vogt|    Superior| Colômbia|         2000|\n",
            "|   Lisa Baxley| Fundamental|  Equador|         2001|\n",
            "| George Miller| Fundamental|  Equador|         2005|\n",
            "+--------------+------------+---------+-------------+\n",
            "only showing top 10 rows\n",
            "\n"
          ]
        }
      ],
      "source": [
        "df_nomes.createOrReplaceTempView(\"pessoas\")\n",
        "df_select_sql = spark.sql(\"SELECT * FROM pessoas WHERE AnoNascimento >= 2000\")\n",
        "df_select_sql.show(10)\n"
      ]
    },
    {
      "cell_type": "markdown",
      "metadata": {
        "id": "Cl-0UGgXYwEI"
      },
      "source": [
        "# **Etapa 8:**\n",
        "Contar Millennials usando filter"
      ]
    },
    {
      "cell_type": "code",
      "execution_count": 14,
      "metadata": {
        "colab": {
          "base_uri": "https://localhost:8080/"
        },
        "id": "CEhfExKUY2QI",
        "outputId": "b85b3556-881f-49e8-bd1f-e0a38fffd536"
      },
      "outputs": [
        {
          "name": "stdout",
          "output_type": "stream",
          "text": [
            "Total de Millennials: 2306398\n"
          ]
        }
      ],
      "source": [
        "millennials_count = df_nomes.filter((df_nomes[\"AnoNascimento\"] >= 1980) & (df_nomes[\"AnoNascimento\"] <= 1994)).count()\n",
        "print(f\"Total de Millennials: {millennials_count}\")\n"
      ]
    },
    {
      "cell_type": "markdown",
      "metadata": {
        "id": "SaCeelt1ZElI"
      },
      "source": [
        "# **Etapa 9:**\n",
        "Contar Millennials usando Spark SQL"
      ]
    },
    {
      "cell_type": "code",
      "execution_count": 15,
      "metadata": {
        "colab": {
          "base_uri": "https://localhost:8080/"
        },
        "id": "K4RggOGZZNxI",
        "outputId": "7bbb4992-666f-4db1-db13-98e460d77be5"
      },
      "outputs": [
        {
          "name": "stdout",
          "output_type": "stream",
          "text": [
            "+-------+\n",
            "|  Total|\n",
            "+-------+\n",
            "|2306398|\n",
            "+-------+\n",
            "\n"
          ]
        }
      ],
      "source": [
        "millennials_count_sql = spark.sql(\n",
        "    \"SELECT COUNT(*) as Total FROM pessoas WHERE AnoNascimento BETWEEN 1980 AND 1994\"\n",
        ")\n",
        "millennials_count_sql.show()\n"
      ]
    },
    {
      "cell_type": "markdown",
      "metadata": {
        "id": "ublpHJrZZT0Y"
      },
      "source": [
        "# **Etapa 10:**\n",
        "Quantidade por País e Geração"
      ]
    },
    {
      "cell_type": "code",
      "execution_count": 16,
      "metadata": {
        "colab": {
          "base_uri": "https://localhost:8080/"
        },
        "id": "HyMKuBWwZbFg",
        "outputId": "a5931f4a-829e-4657-90af-8203672806f0"
      },
      "outputs": [
        {
          "name": "stdout",
          "output_type": "stream",
          "text": [
            "+---------+------------+----------+\n",
            "|     Pais|     Geracao|Quantidade|\n",
            "+---------+------------+----------+\n",
            "|Argentina|Baby Boomers|    236454|\n",
            "|Argentina|   Geração X|    177610|\n",
            "|Argentina|   Geração Z|    177399|\n",
            "|Argentina| Millennials|    177183|\n",
            "|  Bolívia|Baby Boomers|    436371|\n",
            "|  Bolívia|   Geração X|    327892|\n",
            "|  Bolívia|   Geração Z|    328097|\n",
            "|  Bolívia| Millennials|    328700|\n",
            "|   Brasil|Baby Boomers|    555104|\n",
            "|   Brasil|   Geração X|    415880|\n",
            "|   Brasil|   Geração Z|    415821|\n",
            "|   Brasil| Millennials|    415013|\n",
            "|    Chile|Baby Boomers|    567997|\n",
            "|    Chile|   Geração X|    426552|\n",
            "|    Chile|   Geração Z|    426902|\n",
            "|    Chile| Millennials|    426817|\n",
            "| Colômbia|Baby Boomers|    492984|\n",
            "| Colômbia|   Geração X|    369072|\n",
            "| Colômbia|   Geração Z|    370086|\n",
            "| Colômbia| Millennials|    369023|\n",
            "+---------+------------+----------+\n",
            "only showing top 20 rows\n",
            "\n"
          ]
        }
      ],
      "source": [
        "# Adicionar coluna Geração\n",
        "df_nomes = df_nomes.withColumn(\n",
        "    \"Geracao\",\n",
        "    F.expr(\"\"\"\n",
        "        CASE\n",
        "            WHEN AnoNascimento BETWEEN 1944 AND 1964 THEN 'Baby Boomers'\n",
        "            WHEN AnoNascimento BETWEEN 1965 AND 1979 THEN 'Geração X'\n",
        "            WHEN AnoNascimento BETWEEN 1980 AND 1994 THEN 'Millennials'\n",
        "            WHEN AnoNascimento BETWEEN 1995 AND 2015 THEN 'Geração Z'\n",
        "        END\n",
        "    \"\"\")\n",
        ")\n",
        "\n",
        "# Registrar a tabela temporária\n",
        "df_nomes.createOrReplaceTempView(\"pessoas\")\n",
        "\n",
        "# Consulta SQL\n",
        "geracoes_pais = spark.sql(\"\"\"\n",
        "    SELECT Pais, Geracao, COUNT(*) as Quantidade\n",
        "    FROM pessoas\n",
        "    GROUP BY Pais, Geracao\n",
        "    ORDER BY Pais, Geracao, Quantidade\n",
        "\"\"\")\n",
        "geracoes_pais.show()\n"
      ]
    }
  ],
  "metadata": {
    "colab": {
      "provenance": [],
      "toc_visible": true
    },
    "kernelspec": {
      "display_name": "Python 3",
      "name": "python3"
    },
    "language_info": {
      "name": "python"
    }
  },
  "nbformat": 4,
  "nbformat_minor": 0
}
